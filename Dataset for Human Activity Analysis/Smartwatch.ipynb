{
 "cells": [
  {
   "cell_type": "markdown",
   "metadata": {},
   "source": [
    "## Importing Libraries"
   ]
  },
  {
   "cell_type": "code",
   "execution_count": 4,
   "metadata": {},
   "outputs": [],
   "source": [
    "import numpy as np\n",
    "import pandas as pd\n",
    "import matplotlib.pyplot as plt\n",
    "import seaborn as sns\n",
    "sns.set_style('whitegrid')\n",
    "%matplotlib inline"
   ]
  },
  {
   "cell_type": "code",
   "execution_count": 5,
   "metadata": {},
   "outputs": [
    {
     "name": "stdout",
     "output_type": "stream",
     "text": [
      "4.14.3\n"
     ]
    },
    {
     "data": {
      "text/html": [
       "        <script type=\"text/javascript\">\n",
       "        window.PlotlyConfig = {MathJaxConfig: 'local'};\n",
       "        if (window.MathJax) {MathJax.Hub.Config({SVG: {font: \"STIX-Web\"}});}\n",
       "        if (typeof require !== 'undefined') {\n",
       "        require.undef(\"plotly\");\n",
       "        requirejs.config({\n",
       "            paths: {\n",
       "                'plotly': ['https://cdn.plot.ly/plotly-latest.min']\n",
       "            }\n",
       "        });\n",
       "        require(['plotly'], function(Plotly) {\n",
       "            window._Plotly = Plotly;\n",
       "        });\n",
       "        }\n",
       "        </script>\n",
       "        "
      ]
     },
     "metadata": {},
     "output_type": "display_data"
    },
    {
     "data": {
      "text/html": [
       "        <script type=\"text/javascript\">\n",
       "        window.PlotlyConfig = {MathJaxConfig: 'local'};\n",
       "        if (window.MathJax) {MathJax.Hub.Config({SVG: {font: \"STIX-Web\"}});}\n",
       "        if (typeof require !== 'undefined') {\n",
       "        require.undef(\"plotly\");\n",
       "        requirejs.config({\n",
       "            paths: {\n",
       "                'plotly': ['https://cdn.plot.ly/plotly-latest.min']\n",
       "            }\n",
       "        });\n",
       "        require(['plotly'], function(Plotly) {\n",
       "            window._Plotly = Plotly;\n",
       "        });\n",
       "        }\n",
       "        </script>\n",
       "        "
      ]
     },
     "metadata": {},
     "output_type": "display_data"
    }
   ],
   "source": [
    "from plotly import __version__\n",
    "from plotly.offline import download_plotlyjs, init_notebook_mode, plot, iplot\n",
    "\n",
    "print(__version__) # requires version >= 1.9.0\n",
    "import cufflinks as cf\n",
    "init_notebook_mode(connected=True)\n",
    "cf.go_offline()"
   ]
  },
  {
   "cell_type": "markdown",
   "metadata": {},
   "source": [
    "## Reading csv file into dataframe"
   ]
  },
  {
   "cell_type": "code",
   "execution_count": 6,
   "metadata": {},
   "outputs": [],
   "source": [
    "df = pd.read_csv('smartwatch.csv')"
   ]
  },
  {
   "cell_type": "code",
   "execution_count": 7,
   "metadata": {},
   "outputs": [
    {
     "name": "stdout",
     "output_type": "stream",
     "text": [
      "<class 'pandas.core.frame.DataFrame'>\n",
      "RangeIndex: 200471 entries, 0 to 200470\n",
      "Data columns (total 4 columns):\n",
      "index        200471 non-null int64\n",
      "source       200471 non-null object\n",
      "timestamp    200471 non-null object\n",
      "values       200471 non-null object\n",
      "dtypes: int64(1), object(3)\n",
      "memory usage: 6.1+ MB\n"
     ]
    }
   ],
   "source": [
    "df.info()"
   ]
  },
  {
   "cell_type": "code",
   "execution_count": 8,
   "metadata": {},
   "outputs": [
    {
     "data": {
      "text/html": [
       "<div>\n",
       "<style scoped>\n",
       "    .dataframe tbody tr th:only-of-type {\n",
       "        vertical-align: middle;\n",
       "    }\n",
       "\n",
       "    .dataframe tbody tr th {\n",
       "        vertical-align: top;\n",
       "    }\n",
       "\n",
       "    .dataframe thead th {\n",
       "        text-align: right;\n",
       "    }\n",
       "</style>\n",
       "<table border=\"1\" class=\"dataframe\">\n",
       "  <thead>\n",
       "    <tr style=\"text-align: right;\">\n",
       "      <th></th>\n",
       "      <th>index</th>\n",
       "      <th>source</th>\n",
       "      <th>timestamp</th>\n",
       "      <th>values</th>\n",
       "    </tr>\n",
       "  </thead>\n",
       "  <tbody>\n",
       "    <tr>\n",
       "      <th>0</th>\n",
       "      <td>164349</td>\n",
       "      <td>battery</td>\n",
       "      <td>2017-06-29 07:45:56.262</td>\n",
       "      <td>['98']</td>\n",
       "    </tr>\n",
       "    <tr>\n",
       "      <th>1</th>\n",
       "      <td>164350</td>\n",
       "      <td>accelerometer</td>\n",
       "      <td>2017-06-29 07:46:01.263</td>\n",
       "      <td>['-0.3440857', '0.68330383', '9.967361']</td>\n",
       "    </tr>\n",
       "    <tr>\n",
       "      <th>2</th>\n",
       "      <td>164351</td>\n",
       "      <td>gravity</td>\n",
       "      <td>2017-06-29 07:46:01.324</td>\n",
       "      <td>['-0.34131828', '0.6573288', '9.778641']</td>\n",
       "    </tr>\n",
       "    <tr>\n",
       "      <th>3</th>\n",
       "      <td>164352</td>\n",
       "      <td>linear_acceleration</td>\n",
       "      <td>2017-06-29 07:46:01.329</td>\n",
       "      <td>['-0.018068999', '0.034808993', '-0.033065796']</td>\n",
       "    </tr>\n",
       "    <tr>\n",
       "      <th>4</th>\n",
       "      <td>164353</td>\n",
       "      <td>gyroscope</td>\n",
       "      <td>2017-06-29 07:46:01.402</td>\n",
       "      <td>['0.0041656494', '-0.0132751465', '0.006164551']</td>\n",
       "    </tr>\n",
       "  </tbody>\n",
       "</table>\n",
       "</div>"
      ],
      "text/plain": [
       "    index               source                timestamp  \\\n",
       "0  164349              battery  2017-06-29 07:45:56.262   \n",
       "1  164350        accelerometer  2017-06-29 07:46:01.263   \n",
       "2  164351              gravity  2017-06-29 07:46:01.324   \n",
       "3  164352  linear_acceleration  2017-06-29 07:46:01.329   \n",
       "4  164353            gyroscope  2017-06-29 07:46:01.402   \n",
       "\n",
       "                                             values  \n",
       "0                                            ['98']  \n",
       "1          ['-0.3440857', '0.68330383', '9.967361']  \n",
       "2          ['-0.34131828', '0.6573288', '9.778641']  \n",
       "3   ['-0.018068999', '0.034808993', '-0.033065796']  \n",
       "4  ['0.0041656494', '-0.0132751465', '0.006164551']  "
      ]
     },
     "execution_count": 8,
     "metadata": {},
     "output_type": "execute_result"
    }
   ],
   "source": [
    "df.head()"
   ]
  },
  {
   "cell_type": "code",
   "execution_count": 12,
   "metadata": {},
   "outputs": [
    {
     "data": {
      "text/plain": [
       "heart_rate             91337\n",
       "orientation            16385\n",
       "magnetometer           16295\n",
       "pressure               14900\n",
       "step_detector          14751\n",
       "battery                12857\n",
       "gyroscope               9694\n",
       "accelerometer           9265\n",
       "gravity                 4227\n",
       "linear_acceleration     4224\n",
       "rotation_vector         4214\n",
       "step_counter            2322\n",
       "Name: source, dtype: int64"
      ]
     },
     "execution_count": 12,
     "metadata": {},
     "output_type": "execute_result"
    }
   ],
   "source": [
    "df['source'].value_counts()"
   ]
  },
  {
   "cell_type": "markdown",
   "metadata": {},
   "source": [
    "## Analysing the TimeStamp"
   ]
  },
  {
   "cell_type": "code",
   "execution_count": 13,
   "metadata": {},
   "outputs": [
    {
     "data": {
      "text/plain": [
       "str"
      ]
     },
     "execution_count": 13,
     "metadata": {},
     "output_type": "execute_result"
    }
   ],
   "source": [
    "type(df['timestamp'].iloc[0])"
   ]
  },
  {
   "cell_type": "code",
   "execution_count": 14,
   "metadata": {},
   "outputs": [
    {
     "data": {
      "text/plain": [
       "str"
      ]
     },
     "execution_count": 14,
     "metadata": {},
     "output_type": "execute_result"
    }
   ],
   "source": [
    "type(df['timestamp'].iloc[0])"
   ]
  },
  {
   "cell_type": "code",
   "execution_count": 15,
   "metadata": {},
   "outputs": [],
   "source": [
    "df['timestamp'] = pd.to_datetime(df['timestamp'])"
   ]
  },
  {
   "cell_type": "code",
   "execution_count": 16,
   "metadata": {},
   "outputs": [],
   "source": [
    "df['Hour'] = df['timestamp'].apply(lambda time: time.hour)\n",
    "df['Month'] = df['timestamp'].apply(lambda time: time.month)\n",
    "df['Day of Week'] = df['timestamp'].apply(lambda time: time.dayofweek)"
   ]
  },
  {
   "cell_type": "code",
   "execution_count": 17,
   "metadata": {},
   "outputs": [],
   "source": [
    "dmap = {0:'Mon',1:'Tue',2:'Wed',3:'Thu',4:'Fri',5:'Sat',6:'Sun'}\n",
    "df['Day of Week'] = df['Day of Week'].map(dmap)"
   ]
  },
  {
   "cell_type": "code",
   "execution_count": 18,
   "metadata": {},
   "outputs": [
    {
     "data": {
      "text/html": [
       "<div>\n",
       "<style scoped>\n",
       "    .dataframe tbody tr th:only-of-type {\n",
       "        vertical-align: middle;\n",
       "    }\n",
       "\n",
       "    .dataframe tbody tr th {\n",
       "        vertical-align: top;\n",
       "    }\n",
       "\n",
       "    .dataframe thead th {\n",
       "        text-align: right;\n",
       "    }\n",
       "</style>\n",
       "<table border=\"1\" class=\"dataframe\">\n",
       "  <thead>\n",
       "    <tr style=\"text-align: right;\">\n",
       "      <th></th>\n",
       "      <th>index</th>\n",
       "      <th>source</th>\n",
       "      <th>timestamp</th>\n",
       "      <th>values</th>\n",
       "      <th>Hour</th>\n",
       "      <th>Month</th>\n",
       "      <th>Day of Week</th>\n",
       "    </tr>\n",
       "  </thead>\n",
       "  <tbody>\n",
       "    <tr>\n",
       "      <th>0</th>\n",
       "      <td>164349</td>\n",
       "      <td>battery</td>\n",
       "      <td>2017-06-29 07:45:56.262</td>\n",
       "      <td>['98']</td>\n",
       "      <td>7</td>\n",
       "      <td>6</td>\n",
       "      <td>Thu</td>\n",
       "    </tr>\n",
       "    <tr>\n",
       "      <th>1</th>\n",
       "      <td>164350</td>\n",
       "      <td>accelerometer</td>\n",
       "      <td>2017-06-29 07:46:01.263</td>\n",
       "      <td>['-0.3440857', '0.68330383', '9.967361']</td>\n",
       "      <td>7</td>\n",
       "      <td>6</td>\n",
       "      <td>Thu</td>\n",
       "    </tr>\n",
       "    <tr>\n",
       "      <th>2</th>\n",
       "      <td>164351</td>\n",
       "      <td>gravity</td>\n",
       "      <td>2017-06-29 07:46:01.324</td>\n",
       "      <td>['-0.34131828', '0.6573288', '9.778641']</td>\n",
       "      <td>7</td>\n",
       "      <td>6</td>\n",
       "      <td>Thu</td>\n",
       "    </tr>\n",
       "    <tr>\n",
       "      <th>3</th>\n",
       "      <td>164352</td>\n",
       "      <td>linear_acceleration</td>\n",
       "      <td>2017-06-29 07:46:01.329</td>\n",
       "      <td>['-0.018068999', '0.034808993', '-0.033065796']</td>\n",
       "      <td>7</td>\n",
       "      <td>6</td>\n",
       "      <td>Thu</td>\n",
       "    </tr>\n",
       "    <tr>\n",
       "      <th>4</th>\n",
       "      <td>164353</td>\n",
       "      <td>gyroscope</td>\n",
       "      <td>2017-06-29 07:46:01.402</td>\n",
       "      <td>['0.0041656494', '-0.0132751465', '0.006164551']</td>\n",
       "      <td>7</td>\n",
       "      <td>6</td>\n",
       "      <td>Thu</td>\n",
       "    </tr>\n",
       "  </tbody>\n",
       "</table>\n",
       "</div>"
      ],
      "text/plain": [
       "    index               source               timestamp  \\\n",
       "0  164349              battery 2017-06-29 07:45:56.262   \n",
       "1  164350        accelerometer 2017-06-29 07:46:01.263   \n",
       "2  164351              gravity 2017-06-29 07:46:01.324   \n",
       "3  164352  linear_acceleration 2017-06-29 07:46:01.329   \n",
       "4  164353            gyroscope 2017-06-29 07:46:01.402   \n",
       "\n",
       "                                             values  Hour  Month Day of Week  \n",
       "0                                            ['98']     7      6         Thu  \n",
       "1          ['-0.3440857', '0.68330383', '9.967361']     7      6         Thu  \n",
       "2          ['-0.34131828', '0.6573288', '9.778641']     7      6         Thu  \n",
       "3   ['-0.018068999', '0.034808993', '-0.033065796']     7      6         Thu  \n",
       "4  ['0.0041656494', '-0.0132751465', '0.006164551']     7      6         Thu  "
      ]
     },
     "execution_count": 18,
     "metadata": {},
     "output_type": "execute_result"
    }
   ],
   "source": [
    "df.head()"
   ]
  },
  {
   "cell_type": "code",
   "execution_count": 20,
   "metadata": {},
   "outputs": [
    {
     "data": {
      "text/html": [
       "<div>\n",
       "<style scoped>\n",
       "    .dataframe tbody tr th:only-of-type {\n",
       "        vertical-align: middle;\n",
       "    }\n",
       "\n",
       "    .dataframe tbody tr th {\n",
       "        vertical-align: top;\n",
       "    }\n",
       "\n",
       "    .dataframe thead th {\n",
       "        text-align: right;\n",
       "    }\n",
       "</style>\n",
       "<table border=\"1\" class=\"dataframe\">\n",
       "  <thead>\n",
       "    <tr style=\"text-align: right;\">\n",
       "      <th></th>\n",
       "      <th>index</th>\n",
       "      <th>source</th>\n",
       "      <th>timestamp</th>\n",
       "      <th>values</th>\n",
       "      <th>Hour</th>\n",
       "      <th>Month</th>\n",
       "      <th>Day of Week</th>\n",
       "    </tr>\n",
       "  </thead>\n",
       "  <tbody>\n",
       "    <tr>\n",
       "      <th>200466</th>\n",
       "      <td>164346</td>\n",
       "      <td>heart_rate</td>\n",
       "      <td>2017-07-13 20:21:35.060</td>\n",
       "      <td>['56.0', '1']</td>\n",
       "      <td>20</td>\n",
       "      <td>7</td>\n",
       "      <td>Thu</td>\n",
       "    </tr>\n",
       "    <tr>\n",
       "      <th>200467</th>\n",
       "      <td>150770</td>\n",
       "      <td>heart_rate</td>\n",
       "      <td>2017-07-13 20:21:35.124</td>\n",
       "      <td>['57.0', '1']</td>\n",
       "      <td>20</td>\n",
       "      <td>7</td>\n",
       "      <td>Thu</td>\n",
       "    </tr>\n",
       "    <tr>\n",
       "      <th>200468</th>\n",
       "      <td>164347</td>\n",
       "      <td>heart_rate</td>\n",
       "      <td>2017-07-13 20:21:35.124</td>\n",
       "      <td>['57.0', '1']</td>\n",
       "      <td>20</td>\n",
       "      <td>7</td>\n",
       "      <td>Thu</td>\n",
       "    </tr>\n",
       "    <tr>\n",
       "      <th>200469</th>\n",
       "      <td>150771</td>\n",
       "      <td>pressure</td>\n",
       "      <td>2017-07-13 20:21:36.105</td>\n",
       "      <td>['989.3108']</td>\n",
       "      <td>20</td>\n",
       "      <td>7</td>\n",
       "      <td>Thu</td>\n",
       "    </tr>\n",
       "    <tr>\n",
       "      <th>200470</th>\n",
       "      <td>164348</td>\n",
       "      <td>pressure</td>\n",
       "      <td>2017-07-13 20:21:36.105</td>\n",
       "      <td>['989.3108']</td>\n",
       "      <td>20</td>\n",
       "      <td>7</td>\n",
       "      <td>Thu</td>\n",
       "    </tr>\n",
       "  </tbody>\n",
       "</table>\n",
       "</div>"
      ],
      "text/plain": [
       "         index      source               timestamp         values  Hour  \\\n",
       "200466  164346  heart_rate 2017-07-13 20:21:35.060  ['56.0', '1']    20   \n",
       "200467  150770  heart_rate 2017-07-13 20:21:35.124  ['57.0', '1']    20   \n",
       "200468  164347  heart_rate 2017-07-13 20:21:35.124  ['57.0', '1']    20   \n",
       "200469  150771    pressure 2017-07-13 20:21:36.105   ['989.3108']    20   \n",
       "200470  164348    pressure 2017-07-13 20:21:36.105   ['989.3108']    20   \n",
       "\n",
       "        Month Day of Week  \n",
       "200466      7         Thu  \n",
       "200467      7         Thu  \n",
       "200468      7         Thu  \n",
       "200469      7         Thu  \n",
       "200470      7         Thu  "
      ]
     },
     "execution_count": 20,
     "metadata": {},
     "output_type": "execute_result"
    }
   ],
   "source": [
    "df.tail()"
   ]
  },
  {
   "cell_type": "code",
   "execution_count": null,
   "metadata": {},
   "outputs": [],
   "source": []
  }
 ],
 "metadata": {
  "kernelspec": {
   "display_name": "Python 3",
   "language": "python",
   "name": "python3"
  },
  "language_info": {
   "codemirror_mode": {
    "name": "ipython",
    "version": 3
   },
   "file_extension": ".py",
   "mimetype": "text/x-python",
   "name": "python",
   "nbconvert_exporter": "python",
   "pygments_lexer": "ipython3",
   "version": "3.7.3"
  }
 },
 "nbformat": 4,
 "nbformat_minor": 2
}
