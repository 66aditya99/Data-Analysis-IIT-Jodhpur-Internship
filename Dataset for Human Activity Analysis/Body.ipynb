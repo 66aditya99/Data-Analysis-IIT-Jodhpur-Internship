{
 "cells": [
  {
   "cell_type": "markdown",
   "metadata": {},
   "source": [
    "## Importing Libraries"
   ]
  },
  {
   "cell_type": "code",
   "execution_count": 1,
   "metadata": {},
   "outputs": [],
   "source": [
    "import numpy as np\n",
    "import pandas as pd\n",
    "import matplotlib.pyplot as plt\n",
    "import seaborn as sns\n",
    "sns.set_style('whitegrid')\n",
    "%matplotlib inline"
   ]
  },
  {
   "cell_type": "code",
   "execution_count": 2,
   "metadata": {},
   "outputs": [
    {
     "name": "stdout",
     "output_type": "stream",
     "text": [
      "4.14.3\n"
     ]
    },
    {
     "data": {
      "text/html": [
       "        <script type=\"text/javascript\">\n",
       "        window.PlotlyConfig = {MathJaxConfig: 'local'};\n",
       "        if (window.MathJax) {MathJax.Hub.Config({SVG: {font: \"STIX-Web\"}});}\n",
       "        if (typeof require !== 'undefined') {\n",
       "        require.undef(\"plotly\");\n",
       "        requirejs.config({\n",
       "            paths: {\n",
       "                'plotly': ['https://cdn.plot.ly/plotly-latest.min']\n",
       "            }\n",
       "        });\n",
       "        require(['plotly'], function(Plotly) {\n",
       "            window._Plotly = Plotly;\n",
       "        });\n",
       "        }\n",
       "        </script>\n",
       "        "
      ]
     },
     "metadata": {},
     "output_type": "display_data"
    },
    {
     "data": {
      "text/html": [
       "        <script type=\"text/javascript\">\n",
       "        window.PlotlyConfig = {MathJaxConfig: 'local'};\n",
       "        if (window.MathJax) {MathJax.Hub.Config({SVG: {font: \"STIX-Web\"}});}\n",
       "        if (typeof require !== 'undefined') {\n",
       "        require.undef(\"plotly\");\n",
       "        requirejs.config({\n",
       "            paths: {\n",
       "                'plotly': ['https://cdn.plot.ly/plotly-latest.min']\n",
       "            }\n",
       "        });\n",
       "        require(['plotly'], function(Plotly) {\n",
       "            window._Plotly = Plotly;\n",
       "        });\n",
       "        }\n",
       "        </script>\n",
       "        "
      ]
     },
     "metadata": {},
     "output_type": "display_data"
    }
   ],
   "source": [
    "from plotly import __version__\n",
    "from plotly.offline import download_plotlyjs, init_notebook_mode, plot, iplot\n",
    "\n",
    "print(__version__) # requires version >= 1.9.0\n",
    "import cufflinks as cf\n",
    "init_notebook_mode(connected=True)\n",
    "cf.go_offline()"
   ]
  },
  {
   "cell_type": "markdown",
   "metadata": {},
   "source": [
    "## Reading csv file into dataframe"
   ]
  },
  {
   "cell_type": "code",
   "execution_count": 3,
   "metadata": {},
   "outputs": [],
   "source": [
    "df = pd.read_csv('Body.csv')"
   ]
  },
  {
   "cell_type": "code",
   "execution_count": 4,
   "metadata": {},
   "outputs": [
    {
     "name": "stdout",
     "output_type": "stream",
     "text": [
      "<class 'pandas.core.frame.DataFrame'>\n",
      "RangeIndex: 76 entries, 0 to 75\n",
      "Data columns (total 11 columns):\n",
      "timestamp        76 non-null int64\n",
      "weight           76 non-null float64\n",
      "height           76 non-null int64\n",
      "bmi              76 non-null float64\n",
      "fatRate          76 non-null float64\n",
      "bodyWaterRate    76 non-null float64\n",
      "boneMass         76 non-null float64\n",
      "metabolism       76 non-null int64\n",
      "muscleRate       76 non-null float64\n",
      "visceralFat      76 non-null int64\n",
      "impedance        76 non-null int64\n",
      "dtypes: float64(6), int64(5)\n",
      "memory usage: 6.6 KB\n"
     ]
    }
   ],
   "source": [
    "df.info()"
   ]
  },
  {
   "cell_type": "code",
   "execution_count": 5,
   "metadata": {},
   "outputs": [
    {
     "data": {
      "text/html": [
       "<div>\n",
       "<style scoped>\n",
       "    .dataframe tbody tr th:only-of-type {\n",
       "        vertical-align: middle;\n",
       "    }\n",
       "\n",
       "    .dataframe tbody tr th {\n",
       "        vertical-align: top;\n",
       "    }\n",
       "\n",
       "    .dataframe thead th {\n",
       "        text-align: right;\n",
       "    }\n",
       "</style>\n",
       "<table border=\"1\" class=\"dataframe\">\n",
       "  <thead>\n",
       "    <tr style=\"text-align: right;\">\n",
       "      <th></th>\n",
       "      <th>timestamp</th>\n",
       "      <th>weight</th>\n",
       "      <th>height</th>\n",
       "      <th>bmi</th>\n",
       "      <th>fatRate</th>\n",
       "      <th>bodyWaterRate</th>\n",
       "      <th>boneMass</th>\n",
       "      <th>metabolism</th>\n",
       "      <th>muscleRate</th>\n",
       "      <th>visceralFat</th>\n",
       "      <th>impedance</th>\n",
       "    </tr>\n",
       "  </thead>\n",
       "  <tbody>\n",
       "    <tr>\n",
       "      <th>0</th>\n",
       "      <td>1497634066</td>\n",
       "      <td>68.3</td>\n",
       "      <td>171</td>\n",
       "      <td>23.3</td>\n",
       "      <td>0.0</td>\n",
       "      <td>0.0</td>\n",
       "      <td>0.0</td>\n",
       "      <td>0</td>\n",
       "      <td>0.0</td>\n",
       "      <td>0</td>\n",
       "      <td>0</td>\n",
       "    </tr>\n",
       "    <tr>\n",
       "      <th>1</th>\n",
       "      <td>1497634215</td>\n",
       "      <td>68.3</td>\n",
       "      <td>171</td>\n",
       "      <td>23.3</td>\n",
       "      <td>18.9</td>\n",
       "      <td>55.5</td>\n",
       "      <td>2.8</td>\n",
       "      <td>1556</td>\n",
       "      <td>52.5</td>\n",
       "      <td>9</td>\n",
       "      <td>461</td>\n",
       "    </tr>\n",
       "    <tr>\n",
       "      <th>2</th>\n",
       "      <td>1497634456</td>\n",
       "      <td>68.3</td>\n",
       "      <td>171</td>\n",
       "      <td>23.3</td>\n",
       "      <td>18.8</td>\n",
       "      <td>55.6</td>\n",
       "      <td>2.8</td>\n",
       "      <td>1556</td>\n",
       "      <td>52.5</td>\n",
       "      <td>9</td>\n",
       "      <td>450</td>\n",
       "    </tr>\n",
       "    <tr>\n",
       "      <th>3</th>\n",
       "      <td>1497670383</td>\n",
       "      <td>68.3</td>\n",
       "      <td>171</td>\n",
       "      <td>23.3</td>\n",
       "      <td>19.3</td>\n",
       "      <td>55.3</td>\n",
       "      <td>2.8</td>\n",
       "      <td>1556</td>\n",
       "      <td>52.2</td>\n",
       "      <td>9</td>\n",
       "      <td>501</td>\n",
       "    </tr>\n",
       "    <tr>\n",
       "      <th>4</th>\n",
       "      <td>1497726503</td>\n",
       "      <td>67.6</td>\n",
       "      <td>171</td>\n",
       "      <td>23.1</td>\n",
       "      <td>18.4</td>\n",
       "      <td>55.9</td>\n",
       "      <td>2.8</td>\n",
       "      <td>1546</td>\n",
       "      <td>52.3</td>\n",
       "      <td>9</td>\n",
       "      <td>457</td>\n",
       "    </tr>\n",
       "  </tbody>\n",
       "</table>\n",
       "</div>"
      ],
      "text/plain": [
       "    timestamp  weight  height   bmi  fatRate  bodyWaterRate  boneMass  \\\n",
       "0  1497634066    68.3     171  23.3      0.0            0.0       0.0   \n",
       "1  1497634215    68.3     171  23.3     18.9           55.5       2.8   \n",
       "2  1497634456    68.3     171  23.3     18.8           55.6       2.8   \n",
       "3  1497670383    68.3     171  23.3     19.3           55.3       2.8   \n",
       "4  1497726503    67.6     171  23.1     18.4           55.9       2.8   \n",
       "\n",
       "   metabolism  muscleRate  visceralFat  impedance  \n",
       "0           0         0.0            0          0  \n",
       "1        1556        52.5            9        461  \n",
       "2        1556        52.5            9        450  \n",
       "3        1556        52.2            9        501  \n",
       "4        1546        52.3            9        457  "
      ]
     },
     "execution_count": 5,
     "metadata": {},
     "output_type": "execute_result"
    }
   ],
   "source": [
    "df.head()"
   ]
  },
  {
   "cell_type": "code",
   "execution_count": 6,
   "metadata": {},
   "outputs": [
    {
     "name": "stdout",
     "output_type": "stream",
     "text": [
      "<class 'pandas.core.frame.DataFrame'>\n",
      "RangeIndex: 76 entries, 0 to 75\n",
      "Data columns (total 11 columns):\n",
      "timestamp        76 non-null int64\n",
      "weight           76 non-null float64\n",
      "height           76 non-null int64\n",
      "bmi              76 non-null float64\n",
      "fatRate          76 non-null float64\n",
      "bodyWaterRate    76 non-null float64\n",
      "boneMass         76 non-null float64\n",
      "metabolism       76 non-null int64\n",
      "muscleRate       76 non-null float64\n",
      "visceralFat      76 non-null int64\n",
      "impedance        76 non-null int64\n",
      "dtypes: float64(6), int64(5)\n",
      "memory usage: 6.6 KB\n"
     ]
    }
   ],
   "source": [
    "df.info()"
   ]
  },
  {
   "cell_type": "code",
   "execution_count": 7,
   "metadata": {},
   "outputs": [
    {
     "data": {
      "text/plain": [
       "<matplotlib.axes._subplots.AxesSubplot at 0x2cd14eaeeb8>"
      ]
     },
     "execution_count": 7,
     "metadata": {},
     "output_type": "execute_result"
    },
    {
     "data": {
      "image/png": "[encoded data removed]",
      "text/plain": [
       "<Figure size 1080x720 with 2 Axes>"
      ]
     },
     "metadata": {
      "needs_background": "light"
     },
     "output_type": "display_data"
    }
   ],
   "source": [
    "plt.figure(figsize = (15,10))\n",
    "sns.heatmap(df.head(5000).corr(), annot = True,linewidths=1, linecolor='white',)"
   ]
  },
  {
   "cell_type": "code",
   "execution_count": null,
   "metadata": {},
   "outputs": [],
   "source": []
  }
 ],
 "metadata": {
  "kernelspec": {
   "display_name": "Python 3",
   "language": "python",
   "name": "python3"
  },
  "language_info": {
   "codemirror_mode": {
    "name": "ipython",
    "version": 3
   },
   "file_extension": ".py",
   "mimetype": "text/x-python",
   "name": "python",
   "nbconvert_exporter": "python",
   "pygments_lexer": "ipython3",
   "version": "3.7.3"
  }
 },
 "nbformat": 4,
 "nbformat_minor": 2
}
